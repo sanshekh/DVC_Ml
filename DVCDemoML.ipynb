{
 "cells": [
  {
   "cell_type": "code",
   "execution_count": 1,
   "id": "afd97d89",
   "metadata": {
    "scrolled": true
   },
   "outputs": [
    {
     "name": "stdout",
     "output_type": "stream",
     "text": [
      "running install\n",
      "running bdist_egg\n",
      "running egg_info\n",
      "creating DVC_Setup_File.egg-info\n",
      "writing DVC_Setup_File.egg-info\\PKG-INFO\n",
      "writing dependency_links to DVC_Setup_File.egg-info\\dependency_links.txt\n",
      "writing top-level names to DVC_Setup_File.egg-info\\top_level.txt\n",
      "writing manifest file 'DVC_Setup_File.egg-info\\SOURCES.txt'\n",
      "reading manifest file 'DVC_Setup_File.egg-info\\SOURCES.txt'\n",
      "writing manifest file 'DVC_Setup_File.egg-info\\SOURCES.txt'\n",
      "installing library code to build\\bdist.win-amd64\\egg\n",
      "running install_lib\n",
      "running build_py\n",
      "creating build\n",
      "creating build\\lib\n",
      "creating build\\lib\\src\n",
      "copying src\\stage_01_load_save.py -> build\\lib\\src\n",
      "copying src\\stage_02_split_data.py -> build\\lib\\src\n",
      "copying src\\stage_03_train.py -> build\\lib\\src\n",
      "copying src\\stage_04_evaluate.py -> build\\lib\\src\n",
      "copying src\\__init__.py -> build\\lib\\src\n",
      "creating build\\lib\\src\\utils\n",
      "copying src\\utils\\all_utils.py -> build\\lib\\src\\utils\n",
      "copying src\\utils\\__init__.py -> build\\lib\\src\\utils\n",
      "creating build\\bdist.win-amd64\n",
      "creating build\\bdist.win-amd64\\egg\n",
      "creating build\\bdist.win-amd64\\egg\\src\n",
      "copying build\\lib\\src\\stage_01_load_save.py -> build\\bdist.win-amd64\\egg\\src\n",
      "copying build\\lib\\src\\stage_02_split_data.py -> build\\bdist.win-amd64\\egg\\src\n",
      "copying build\\lib\\src\\stage_03_train.py -> build\\bdist.win-amd64\\egg\\src\n",
      "copying build\\lib\\src\\stage_04_evaluate.py -> build\\bdist.win-amd64\\egg\\src\n",
      "creating build\\bdist.win-amd64\\egg\\src\\utils\n",
      "copying build\\lib\\src\\utils\\all_utils.py -> build\\bdist.win-amd64\\egg\\src\\utils\n",
      "copying build\\lib\\src\\utils\\__init__.py -> build\\bdist.win-amd64\\egg\\src\\utils\n",
      "copying build\\lib\\src\\__init__.py -> build\\bdist.win-amd64\\egg\\src\n",
      "byte-compiling build\\bdist.win-amd64\\egg\\src\\stage_01_load_save.py to stage_01_load_save.cpython-37.pyc\n",
      "byte-compiling build\\bdist.win-amd64\\egg\\src\\stage_02_split_data.py to stage_02_split_data.cpython-37.pyc\n",
      "byte-compiling build\\bdist.win-amd64\\egg\\src\\stage_03_train.py to stage_03_train.cpython-37.pyc\n",
      "byte-compiling build\\bdist.win-amd64\\egg\\src\\stage_04_evaluate.py to stage_04_evaluate.cpython-37.pyc\n",
      "byte-compiling build\\bdist.win-amd64\\egg\\src\\utils\\all_utils.py to all_utils.cpython-37.pyc\n",
      "byte-compiling build\\bdist.win-amd64\\egg\\src\\utils\\__init__.py to __init__.cpython-37.pyc\n",
      "byte-compiling build\\bdist.win-amd64\\egg\\src\\__init__.py to __init__.cpython-37.pyc\n",
      "creating build\\bdist.win-amd64\\egg\\EGG-INFO\n",
      "copying DVC_Setup_File.egg-info\\PKG-INFO -> build\\bdist.win-amd64\\egg\\EGG-INFO\n",
      "copying DVC_Setup_File.egg-info\\SOURCES.txt -> build\\bdist.win-amd64\\egg\\EGG-INFO\n",
      "copying DVC_Setup_File.egg-info\\dependency_links.txt -> build\\bdist.win-amd64\\egg\\EGG-INFO\n",
      "copying DVC_Setup_File.egg-info\\top_level.txt -> build\\bdist.win-amd64\\egg\\EGG-INFO\n",
      "creating dist\n",
      "creating 'dist\\DVC_Setup_File-1.0-py3.7.egg' and adding 'build\\bdist.win-amd64\\egg' to it\n",
      "removing 'build\\bdist.win-amd64\\egg' (and everything under it)\n",
      "Processing DVC_Setup_File-1.0-py3.7.egg\n",
      "Copying DVC_Setup_File-1.0-py3.7.egg to c:\\programdata\\anaconda3\\envs\\dvcenv\\lib\\site-packages\n",
      "Adding DVC-Setup-File 1.0 to easy-install.pth file\n",
      "\n",
      "Installed c:\\programdata\\anaconda3\\envs\\dvcenv\\lib\\site-packages\\dvc_setup_file-1.0-py3.7.egg\n",
      "Processing dependencies for DVC-Setup-File==1.0\n",
      "Finished processing dependencies for DVC-Setup-File==1.0\n"
     ]
    },
    {
     "name": "stderr",
     "output_type": "stream",
     "text": [
      "C:\\ProgramData\\Anaconda3\\envs\\dvcEnv\\lib\\site-packages\\setuptools\\command\\install.py:37: SetuptoolsDeprecationWarning: setup.py install is deprecated. Use build and pip and other standards-based tools.\n",
      "  setuptools.SetuptoolsDeprecationWarning,\n",
      "C:\\ProgramData\\Anaconda3\\envs\\dvcEnv\\lib\\site-packages\\setuptools\\command\\easy_install.py:147: EasyInstallDeprecationWarning: easy_install command is deprecated. Use build and pip and other standards-based tools.\n",
      "  EasyInstallDeprecationWarning,\n",
      "zip_safe flag not set; analyzing archive contents...\n"
     ]
    }
   ],
   "source": [
    "!python setup.py install"
   ]
  },
  {
   "cell_type": "code",
   "execution_count": 2,
   "id": "bfd87bc2",
   "metadata": {},
   "outputs": [
    {
     "name": "stdout",
     "output_type": "stream",
     "text": [
      "Initialized empty Git repository in C:/Users/adminuser/Desktop/PracticeFiles/Day5/DVCMLDemo/.git/\n"
     ]
    }
   ],
   "source": [
    "!git init"
   ]
  },
  {
   "cell_type": "code",
   "execution_count": 3,
   "id": "2ce89abe",
   "metadata": {
    "collapsed": true
   },
   "outputs": [
    {
     "name": "stdout",
     "output_type": "stream",
     "text": [
      "Initialized DVC repository.\n",
      "\n",
      "You can now commit the changes to git.\n",
      "\n",
      "+---------------------------------------------------------------------+\n",
      "|                                                                     |\n",
      "|        DVC has enabled anonymous aggregate usage analytics.         |\n",
      "|     Read the analytics documentation (and how to opt-out) here:     |\n",
      "|             <https://dvc.org/doc/user-guide/analytics>              |\n",
      "|                                                                     |\n",
      "+---------------------------------------------------------------------+\n",
      "\n",
      "What's next?\n",
      "------------\n",
      "- Check out the documentation: <https://dvc.org/doc>\n",
      "- Get help and share ideas: <https://dvc.org/chat>\n",
      "- Star us on GitHub: <https://github.com/iterative/dvc>\n"
     ]
    }
   ],
   "source": [
    "!dvc init"
   ]
  },
  {
   "cell_type": "code",
   "execution_count": 4,
   "id": "9692343f",
   "metadata": {},
   "outputs": [
    {
     "name": "stdout",
     "output_type": "stream",
     "text": [
      "Running stage 'load_data':\n",
      "> python src/stage_01_load_save.py --config=config/config.yaml\n",
      "directory is created at artifacts\\rawdata_local_dir\n",
      "artifacts\\rawdata_local_dir\\data.csv\n",
      "Generating lock file 'dvc.lock'\n",
      "Updating lock file 'dvc.lock'\n",
      "\n",
      "Running stage 'split_data':\n",
      "> python src/stage_02_split_data.py --config=config/config.yaml --params=params.yaml\n",
      "artifacts\\rawdata_local_dir\\data.csv\n",
      "directory is created at artifacts\\split_data_dir\n",
      "data is saved at artifacts\\split_data_dir\\train.csv\n",
      "data is saved at artifacts\\split_data_dir\\test.csv\n",
      "Updating lock file 'dvc.lock'\n",
      "\n",
      "Running stage 'train':\n",
      "> python src/stage_03_train.py --config=config/config.yaml --params=params.yaml\n",
      "directory is created at artifacts\\model_dir\n",
      "Updating lock file 'dvc.lock'\n",
      "\n",
      "Running stage 'evaluate':\n",
      "> python src/stage_04_evaluate.py --config=config/config.yaml --params=params.yaml\n",
      "directory is created at artifacts\\reports_dir\n",
      "reports are saved at artifacts\\reports_dir\\scores.json\n",
      "Updating lock file 'dvc.lock'\n",
      "\n",
      "To track the changes with git, run:\n",
      "\n",
      "    git add 'artifacts\\split_data_dir\\.gitignore' dvc.lock 'artifacts\\model_dir\\.gitignore' 'artifacts\\rawdata_local_dir\\.gitignore'\n",
      "\n",
      "To enable auto staging, run:\n",
      "\n",
      "\tdvc config core.autostage true\n",
      "Use `dvc push` to send your updates to remote storage.\n"
     ]
    }
   ],
   "source": [
    "!dvc repro"
   ]
  },
  {
   "cell_type": "code",
   "execution_count": 5,
   "id": "91c449d2",
   "metadata": {},
   "outputs": [
    {
     "name": "stdout",
     "output_type": "stream",
     "text": [
      "        +-----------+     \n",
      "        | load_data |     \n",
      "        +-----------+     \n",
      "              *           \n",
      "              *           \n",
      "              *           \n",
      "        +------------+    \n",
      "        | split_data |    \n",
      "        +------------+    \n",
      "         **        **     \n",
      "       **            *    \n",
      "      *               **  \n",
      "+-------+               * \n",
      "| train |             **  \n",
      "+-------+            *    \n",
      "         **        **     \n",
      "           **    **       \n",
      "             *  *         \n",
      "        +----------+      \n",
      "        | evaluate |      \n",
      "        +----------+      \n"
     ]
    }
   ],
   "source": [
    "!dvc dag"
   ]
  },
  {
   "cell_type": "code",
   "execution_count": 6,
   "id": "c09bdeae",
   "metadata": {},
   "outputs": [
    {
     "name": "stdout",
     "output_type": "stream",
     "text": [
      "Path                               mae      r2       rmse\n",
      "artifacts\\reports_dir\\scores.json  0.60913  0.11692  0.74826\n"
     ]
    }
   ],
   "source": [
    "!dvc metrics show"
   ]
  },
  {
   "cell_type": "code",
   "execution_count": 7,
   "id": "04ba4532",
   "metadata": {},
   "outputs": [],
   "source": [
    "!dvc metrics diff"
   ]
  },
  {
   "cell_type": "code",
   "execution_count": 8,
   "id": "ddb2567f",
   "metadata": {},
   "outputs": [],
   "source": [
    "!git config --global user.email \"shekharsandeep8@gmail.com\""
   ]
  },
  {
   "cell_type": "code",
   "execution_count": 9,
   "id": "316591d8",
   "metadata": {},
   "outputs": [
    {
     "name": "stdout",
     "output_type": "stream",
     "text": [
      "[master (root-commit) 79bd7e4] ML-OPS with dvc\n",
      " 33 files changed, 995 insertions(+)\n",
      " create mode 100644 .dvc/.gitignore\n",
      " create mode 100644 .dvc/config\n",
      " create mode 100644 .dvcignore\n",
      " create mode 100644 .ipynb_checkpoints/DVCDemoML-checkpoint.ipynb\n",
      " create mode 100644 DVCDemoML.ipynb\n",
      " create mode 100644 DVC_Setup_File.egg-info/PKG-INFO\n",
      " create mode 100644 DVC_Setup_File.egg-info/SOURCES.txt\n",
      " create mode 100644 DVC_Setup_File.egg-info/dependency_links.txt\n",
      " create mode 100644 DVC_Setup_File.egg-info/top_level.txt\n",
      " create mode 100644 artifacts/model_dir/.gitignore\n",
      " create mode 100644 artifacts/rawdata_local_dir/.gitignore\n",
      " create mode 100644 artifacts/reports_dir/scores.json\n",
      " create mode 100644 artifacts/split_data_dir/.gitignore\n",
      " create mode 100644 build/lib/src/__init__.py\n",
      " create mode 100644 build/lib/src/stage_01_load_save.py\n",
      " create mode 100644 build/lib/src/stage_02_split_data.py\n",
      " create mode 100644 build/lib/src/stage_03_train.py\n",
      " create mode 100644 build/lib/src/stage_04_evaluate.py\n",
      " create mode 100644 build/lib/src/utils/__init__.py\n",
      " create mode 100644 build/lib/src/utils/all_utils.py\n",
      " create mode 100644 config/config.yaml\n",
      " create mode 100644 dist/DVC_Setup_File-1.0-py3.7.egg\n",
      " create mode 100644 dvc.lock\n",
      " create mode 100644 dvc.yaml\n",
      " create mode 100644 params.yaml\n",
      " create mode 100644 setup.py\n",
      " create mode 100644 src/__init__.py\n",
      " create mode 100644 src/stage_01_load_save.py\n",
      " create mode 100644 src/stage_02_split_data.py\n",
      " create mode 100644 src/stage_03_train.py\n",
      " create mode 100644 src/stage_04_evaluate.py\n",
      " create mode 100644 src/utils/__init__.py\n",
      " create mode 100644 src/utils/all_utils.py\n"
     ]
    },
    {
     "name": "stderr",
     "output_type": "stream",
     "text": [
      "warning: in the working copy of '.ipynb_checkpoints/DVCDemoML-checkpoint.ipynb', LF will be replaced by CRLF the next time Git touches it\n",
      "warning: in the working copy of 'DVCDemoML.ipynb', LF will be replaced by CRLF the next time Git touches it\n",
      "warning: in the working copy of 'DVC_Setup_File.egg-info/SOURCES.txt', LF will be replaced by CRLF the next time Git touches it\n",
      "warning: in the working copy of 'DVC_Setup_File.egg-info/dependency_links.txt', LF will be replaced by CRLF the next time Git touches it\n",
      "warning: in the working copy of 'DVC_Setup_File.egg-info/top_level.txt', LF will be replaced by CRLF the next time Git touches it\n",
      "warning: in the working copy of 'build/lib/src/stage_01_load_save.py', LF will be replaced by CRLF the next time Git touches it\n",
      "warning: in the working copy of 'build/lib/src/stage_02_split_data.py', LF will be replaced by CRLF the next time Git touches it\n",
      "warning: in the working copy of 'build/lib/src/stage_03_train.py', LF will be replaced by CRLF the next time Git touches it\n",
      "warning: in the working copy of 'build/lib/src/stage_04_evaluate.py', LF will be replaced by CRLF the next time Git touches it\n",
      "warning: in the working copy of 'build/lib/src/utils/all_utils.py', LF will be replaced by CRLF the next time Git touches it\n",
      "warning: in the working copy of 'config/config.yaml', LF will be replaced by CRLF the next time Git touches it\n",
      "warning: in the working copy of 'dvc.yaml', LF will be replaced by CRLF the next time Git touches it\n",
      "warning: in the working copy of 'params.yaml', LF will be replaced by CRLF the next time Git touches it\n",
      "warning: in the working copy of 'setup.py', LF will be replaced by CRLF the next time Git touches it\n",
      "warning: in the working copy of 'src/stage_01_load_save.py', LF will be replaced by CRLF the next time Git touches it\n",
      "warning: in the working copy of 'src/stage_02_split_data.py', LF will be replaced by CRLF the next time Git touches it\n",
      "warning: in the working copy of 'src/stage_03_train.py', LF will be replaced by CRLF the next time Git touches it\n",
      "warning: in the working copy of 'src/stage_04_evaluate.py', LF will be replaced by CRLF the next time Git touches it\n",
      "warning: in the working copy of 'src/utils/all_utils.py', LF will be replaced by CRLF the next time Git touches it\n",
      "error: src refspec main does not match any\n",
      "error: failed to push some refs to 'origin'\n"
     ]
    }
   ],
   "source": [
    "!git add . && git commit -m \"ML-OPS with dvc\" && git push origin main"
   ]
  },
  {
   "cell_type": "code",
   "execution_count": 11,
   "id": "a58bb385",
   "metadata": {},
   "outputs": [
    {
     "name": "stdout",
     "output_type": "stream",
     "text": [
      "Path                               mae      r2       rmse\n",
      "artifacts\\reports_dir\\scores.json  0.60913  0.11692  0.74826\n"
     ]
    }
   ],
   "source": [
    "! dvc metrics show"
   ]
  },
  {
   "cell_type": "code",
   "execution_count": 12,
   "id": "2209fbb2",
   "metadata": {},
   "outputs": [
    {
     "name": "stdout",
     "output_type": "stream",
     "text": [
      "file:///C:/Users/adminuser/Desktop/PracticeFiles/Day5/DVCMLDemo/dvc_plots/index.html\n"
     ]
    }
   ],
   "source": [
    "!dvc plots show artifacts\\split_data_dir\\train.csv --template simple -x density -y quality"
   ]
  },
  {
   "cell_type": "code",
   "execution_count": 13,
   "id": "a7d86ff0",
   "metadata": {},
   "outputs": [
    {
     "name": "stdout",
     "output_type": "stream",
     "text": [
      "On branch master\n",
      "Changes not staged for commit:\n",
      "  (use \"git add <file>...\" to update what will be committed)\n",
      "  (use \"git restore <file>...\" to discard changes in working directory)\n",
      "\tmodified:   DVCDemoML.ipynb\n",
      "\n",
      "Untracked files:\n",
      "  (use \"git add <file>...\" to include in what will be committed)\n",
      "\tdvc_plots/\n",
      "\n",
      "no changes added to commit (use \"git add\" and/or \"git commit -a\")\n"
     ]
    }
   ],
   "source": [
    "! git status"
   ]
  },
  {
   "cell_type": "code",
   "execution_count": null,
   "id": "659fdc6c",
   "metadata": {},
   "outputs": [],
   "source": []
  },
  {
   "cell_type": "code",
   "execution_count": null,
   "id": "fb8a076a",
   "metadata": {},
   "outputs": [],
   "source": []
  },
  {
   "cell_type": "code",
   "execution_count": null,
   "id": "43629c61",
   "metadata": {},
   "outputs": [],
   "source": []
  },
  {
   "cell_type": "code",
   "execution_count": null,
   "id": "904b94d8",
   "metadata": {},
   "outputs": [],
   "source": []
  }
 ],
 "metadata": {
  "kernelspec": {
   "display_name": "Python 3 (ipykernel)",
   "language": "python",
   "name": "python3"
  },
  "language_info": {
   "codemirror_mode": {
    "name": "ipython",
    "version": 3
   },
   "file_extension": ".py",
   "mimetype": "text/x-python",
   "name": "python",
   "nbconvert_exporter": "python",
   "pygments_lexer": "ipython3",
   "version": "3.7.0"
  }
 },
 "nbformat": 4,
 "nbformat_minor": 5
}
