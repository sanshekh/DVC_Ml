{
 "cells": [
  {
   "cell_type": "code",
   "execution_count": 1,
   "id": "65ffed54",
   "metadata": {
    "scrolled": true
   },
   "outputs": [
    {
     "name": "stdout",
     "output_type": "stream",
     "text": [
      "running install\n",
      "running bdist_egg\n",
      "running egg_info\n",
      "creating DVC_Setup_File.egg-info\n",
      "writing DVC_Setup_File.egg-info\\PKG-INFO\n",
      "writing dependency_links to DVC_Setup_File.egg-info\\dependency_links.txt\n",
      "writing top-level names to DVC_Setup_File.egg-info\\top_level.txt\n",
      "writing manifest file 'DVC_Setup_File.egg-info\\SOURCES.txt'\n",
      "reading manifest file 'DVC_Setup_File.egg-info\\SOURCES.txt'\n",
      "writing manifest file 'DVC_Setup_File.egg-info\\SOURCES.txt'\n",
      "installing library code to build\\bdist.win-amd64\\egg\n",
      "running install_lib\n",
      "running build_py\n",
      "creating build\n",
      "creating build\\lib\n",
      "creating build\\lib\\src\n",
      "copying src\\stage_01_load_save.py -> build\\lib\\src\n",
      "copying src\\stage_02_split_data.py -> build\\lib\\src\n",
      "copying src\\stage_03_train.py -> build\\lib\\src\n",
      "copying src\\stage_04_evaluate.py -> build\\lib\\src\n",
      "copying src\\__init__.py -> build\\lib\\src\n",
      "creating build\\lib\\src\\utils\n",
      "copying src\\utils\\all_utils.py -> build\\lib\\src\\utils\n",
      "copying src\\utils\\__init__.py -> build\\lib\\src\\utils\n",
      "creating build\\bdist.win-amd64\n",
      "creating build\\bdist.win-amd64\\egg\n",
      "creating build\\bdist.win-amd64\\egg\\src\n",
      "copying build\\lib\\src\\stage_01_load_save.py -> build\\bdist.win-amd64\\egg\\src\n",
      "copying build\\lib\\src\\stage_02_split_data.py -> build\\bdist.win-amd64\\egg\\src\n",
      "copying build\\lib\\src\\stage_03_train.py -> build\\bdist.win-amd64\\egg\\src\n",
      "copying build\\lib\\src\\stage_04_evaluate.py -> build\\bdist.win-amd64\\egg\\src\n",
      "creating build\\bdist.win-amd64\\egg\\src\\utils\n",
      "copying build\\lib\\src\\utils\\all_utils.py -> build\\bdist.win-amd64\\egg\\src\\utils\n",
      "copying build\\lib\\src\\utils\\__init__.py -> build\\bdist.win-amd64\\egg\\src\\utils\n",
      "copying build\\lib\\src\\__init__.py -> build\\bdist.win-amd64\\egg\\src\n",
      "byte-compiling build\\bdist.win-amd64\\egg\\src\\stage_01_load_save.py to stage_01_load_save.cpython-37.pyc\n",
      "byte-compiling build\\bdist.win-amd64\\egg\\src\\stage_02_split_data.py to stage_02_split_data.cpython-37.pyc\n",
      "byte-compiling build\\bdist.win-amd64\\egg\\src\\stage_03_train.py to stage_03_train.cpython-37.pyc\n",
      "byte-compiling build\\bdist.win-amd64\\egg\\src\\stage_04_evaluate.py to stage_04_evaluate.cpython-37.pyc\n",
      "byte-compiling build\\bdist.win-amd64\\egg\\src\\utils\\all_utils.py to all_utils.cpython-37.pyc\n",
      "byte-compiling build\\bdist.win-amd64\\egg\\src\\utils\\__init__.py to __init__.cpython-37.pyc\n",
      "byte-compiling build\\bdist.win-amd64\\egg\\src\\__init__.py to __init__.cpython-37.pyc\n",
      "creating build\\bdist.win-amd64\\egg\\EGG-INFO\n",
      "copying DVC_Setup_File.egg-info\\PKG-INFO -> build\\bdist.win-amd64\\egg\\EGG-INFO\n",
      "copying DVC_Setup_File.egg-info\\SOURCES.txt -> build\\bdist.win-amd64\\egg\\EGG-INFO\n",
      "copying DVC_Setup_File.egg-info\\dependency_links.txt -> build\\bdist.win-amd64\\egg\\EGG-INFO\n",
      "copying DVC_Setup_File.egg-info\\top_level.txt -> build\\bdist.win-amd64\\egg\\EGG-INFO\n",
      "creating dist\n",
      "creating 'dist\\DVC_Setup_File-1.0-py3.7.egg' and adding 'build\\bdist.win-amd64\\egg' to it\n",
      "removing 'build\\bdist.win-amd64\\egg' (and everything under it)\n",
      "Processing DVC_Setup_File-1.0-py3.7.egg\n",
      "Copying DVC_Setup_File-1.0-py3.7.egg to c:\\programdata\\anaconda3\\envs\\dvcenv\\lib\\site-packages\n",
      "Adding DVC-Setup-File 1.0 to easy-install.pth file\n",
      "\n",
      "Installed c:\\programdata\\anaconda3\\envs\\dvcenv\\lib\\site-packages\\dvc_setup_file-1.0-py3.7.egg\n",
      "Processing dependencies for DVC-Setup-File==1.0\n",
      "Finished processing dependencies for DVC-Setup-File==1.0\n"
     ]
    },
    {
     "name": "stderr",
     "output_type": "stream",
     "text": [
      "C:\\ProgramData\\Anaconda3\\envs\\dvcEnv\\lib\\site-packages\\setuptools\\command\\install.py:37: SetuptoolsDeprecationWarning: setup.py install is deprecated. Use build and pip and other standards-based tools.\n",
      "  setuptools.SetuptoolsDeprecationWarning,\n",
      "C:\\ProgramData\\Anaconda3\\envs\\dvcEnv\\lib\\site-packages\\setuptools\\command\\easy_install.py:147: EasyInstallDeprecationWarning: easy_install command is deprecated. Use build and pip and other standards-based tools.\n",
      "  EasyInstallDeprecationWarning,\n",
      "zip_safe flag not set; analyzing archive contents...\n"
     ]
    }
   ],
   "source": [
    "!python setup.py install"
   ]
  },
  {
   "cell_type": "code",
   "execution_count": 2,
   "id": "55087bd4",
   "metadata": {},
   "outputs": [
    {
     "name": "stdout",
     "output_type": "stream",
     "text": [
      "Initialized empty Git repository in C:/Users/adminuser/Desktop/PracticeFiles/Day5/DVCMLDemo/.git/\n"
     ]
    }
   ],
   "source": [
    "!git init"
   ]
  },
  {
   "cell_type": "code",
   "execution_count": 3,
   "id": "751c600c",
   "metadata": {
    "collapsed": true
   },
   "outputs": [
    {
     "name": "stdout",
     "output_type": "stream",
     "text": [
      "Initialized DVC repository.\n",
      "\n",
      "You can now commit the changes to git.\n",
      "\n",
      "+---------------------------------------------------------------------+\n",
      "|                                                                     |\n",
      "|        DVC has enabled anonymous aggregate usage analytics.         |\n",
      "|     Read the analytics documentation (and how to opt-out) here:     |\n",
      "|             <https://dvc.org/doc/user-guide/analytics>              |\n",
      "|                                                                     |\n",
      "+---------------------------------------------------------------------+\n",
      "\n",
      "What's next?\n",
      "------------\n",
      "- Check out the documentation: <https://dvc.org/doc>\n",
      "- Get help and share ideas: <https://dvc.org/chat>\n",
      "- Star us on GitHub: <https://github.com/iterative/dvc>\n"
     ]
    }
   ],
   "source": [
    "!dvc init"
   ]
  },
  {
   "cell_type": "code",
   "execution_count": 4,
   "id": "fe933dfb",
   "metadata": {},
   "outputs": [
    {
     "name": "stdout",
     "output_type": "stream",
     "text": [
      "Running stage 'load_data':\n",
      "> python src/stage_01_load_save.py --config=config/config.yaml\n",
      "directory is created at artifacts\\rawdata_local_dir\n",
      "artifacts\\rawdata_local_dir\\data.csv\n",
      "Generating lock file 'dvc.lock'\n",
      "Updating lock file 'dvc.lock'\n",
      "\n",
      "Running stage 'split_data':\n",
      "> python src/stage_02_split_data.py --config=config/config.yaml --params=params.yaml\n",
      "artifacts\\rawdata_local_dir\\data.csv\n",
      "directory is created at artifacts\\split_data_dir\n",
      "data is saved at artifacts\\split_data_dir\\train.csv\n",
      "data is saved at artifacts\\split_data_dir\\test.csv\n",
      "Updating lock file 'dvc.lock'\n",
      "\n",
      "Running stage 'train':\n",
      "> python src/stage_03_train.py --config=config/config.yaml --params=params.yaml\n",
      "directory is created at artifacts\\model_dir\n",
      "Updating lock file 'dvc.lock'\n",
      "\n",
      "Running stage 'evaluate':\n",
      "> python src/stage_04_evaluate.py --config=config/config.yaml --params=params.yaml\n",
      "directory is created at artifacts\\reports_dir\n",
      "reports are saved at artifacts\\reports_dir\\scores.json\n",
      "Updating lock file 'dvc.lock'\n",
      "\n",
      "To track the changes with git, run:\n",
      "\n",
      "    git add 'artifacts\\split_data_dir\\.gitignore' dvc.lock 'artifacts\\model_dir\\.gitignore' 'artifacts\\rawdata_local_dir\\.gitignore'\n",
      "\n",
      "To enable auto staging, run:\n",
      "\n",
      "\tdvc config core.autostage true\n",
      "Use `dvc push` to send your updates to remote storage.\n"
     ]
    }
   ],
   "source": [
    "!dvc repro"
   ]
  },
  {
   "cell_type": "code",
   "execution_count": 5,
   "id": "2ecbec2f",
   "metadata": {},
   "outputs": [
    {
     "name": "stdout",
     "output_type": "stream",
     "text": [
      "        +-----------+     \n",
      "        | load_data |     \n",
      "        +-----------+     \n",
      "              *           \n",
      "              *           \n",
      "              *           \n",
      "        +------------+    \n",
      "        | split_data |    \n",
      "        +------------+    \n",
      "         **        **     \n",
      "       **            *    \n",
      "      *               **  \n",
      "+-------+               * \n",
      "| train |             **  \n",
      "+-------+            *    \n",
      "         **        **     \n",
      "           **    **       \n",
      "             *  *         \n",
      "        +----------+      \n",
      "        | evaluate |      \n",
      "        +----------+      \n"
     ]
    }
   ],
   "source": [
    "!dvc dag"
   ]
  },
  {
   "cell_type": "code",
   "execution_count": 6,
   "id": "c8798e62",
   "metadata": {},
   "outputs": [
    {
     "name": "stdout",
     "output_type": "stream",
     "text": [
      "Path                               mae      r2       rmse\n",
      "artifacts\\reports_dir\\scores.json  0.60913  0.11692  0.74826\n"
     ]
    }
   ],
   "source": [
    "!dvc metrics show"
   ]
  },
  {
   "cell_type": "code",
   "execution_count": 7,
   "id": "fde626f9",
   "metadata": {},
   "outputs": [],
   "source": [
    "!dvc metrics diff"
   ]
  },
  {
   "cell_type": "code",
   "execution_count": null,
   "id": "94f7a2f0",
   "metadata": {},
   "outputs": [],
   "source": [
    "!"
   ]
  },
  {
   "cell_type": "code",
   "execution_count": null,
   "id": "0d562917",
   "metadata": {},
   "outputs": [],
   "source": []
  },
  {
   "cell_type": "code",
   "execution_count": null,
   "id": "8f12b9f1",
   "metadata": {},
   "outputs": [],
   "source": []
  },
  {
   "cell_type": "code",
   "execution_count": null,
   "id": "6971635f",
   "metadata": {},
   "outputs": [],
   "source": []
  }
 ],
 "metadata": {
  "kernelspec": {
   "display_name": "Python 3 (ipykernel)",
   "language": "python",
   "name": "python3"
  },
  "language_info": {
   "codemirror_mode": {
    "name": "ipython",
    "version": 3
   },
   "file_extension": ".py",
   "mimetype": "text/x-python",
   "name": "python",
   "nbconvert_exporter": "python",
   "pygments_lexer": "ipython3",
   "version": "3.7.0"
  }
 },
 "nbformat": 4,
 "nbformat_minor": 5
}
